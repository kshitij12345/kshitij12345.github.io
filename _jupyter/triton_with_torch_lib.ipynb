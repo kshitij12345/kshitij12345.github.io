{
  "nbformat": 4,
  "nbformat_minor": 0,
  "metadata": {
    "colab": {
      "provenance": [],
      "collapsed_sections": []
    },
    "kernelspec": {
      "name": "python3",
      "display_name": "Python 3"
    },
    "language_info": {
      "name": "python"
    },
    "accelerator": "GPU"
  },
  "cells": [
    {
      "cell_type": "code",
      "source": [
        "!pip install triton==2.0.0.dev20221005"
      ],
      "metadata": {
        "id": "1qbmdOzbRON4",
        "colab": {
          "base_uri": "https://localhost:8080/"
        },
        "outputId": "1fafd63b-85b2-4188-b18b-322fc3b77613"
      },
      "execution_count": 1,
      "outputs": [
        {
          "output_type": "stream",
          "name": "stdout",
          "text": [
            "Looking in indexes: https://pypi.org/simple, https://us-python.pkg.dev/colab-wheels/public/simple/\n",
            "Requirement already satisfied: triton==2.0.0.dev20221005 in /usr/local/lib/python3.7/dist-packages (2.0.0.dev20221005)\n",
            "Requirement already satisfied: filelock in /usr/local/lib/python3.7/dist-packages (from triton==2.0.0.dev20221005) (3.8.0)\n",
            "Requirement already satisfied: torch in /usr/local/lib/python3.7/dist-packages (from triton==2.0.0.dev20221005) (1.12.1+cu113)\n",
            "Requirement already satisfied: cmake in /usr/local/lib/python3.7/dist-packages (from triton==2.0.0.dev20221005) (3.22.6)\n",
            "Requirement already satisfied: typing-extensions in /usr/local/lib/python3.7/dist-packages (from torch->triton==2.0.0.dev20221005) (4.1.1)\n"
          ]
        }
      ]
    },
    {
      "cell_type": "markdown",
      "source": [
        "### Introduction\n",
        "\n",
        "PyTorch is one of the prominent Deep Learning Frameworks. It ships with a lot of useful operators and modules for building and training your own Deep Learning model. However, in certain cases, you can write your own CUDA kernels for certain operations to improve performance. \n",
        "\n",
        "In this blog, we are going to try `Triton`, a Python Framework, which helps us to write efficient CUDA kernels at runtime and use them to improve our performance. We will then use this `Triton` kernel to override one of the existing operator kernel in PyTorch. Thus we don't have to write our model code any different (from the PyTorch API) and yet we will see performance boost."
      ],
      "metadata": {
        "id": "PJFvgqcj1Z3P"
      }
    },
    {
      "cell_type": "code",
      "execution_count": 2,
      "metadata": {
        "id": "WuvdXXt6Q8j1"
      },
      "outputs": [],
      "source": [
        "import torch\n",
        "import triton\n",
        "import triton.language as tl"
      ]
    },
    {
      "cell_type": "markdown",
      "source": [
        "### Enter Triton\n",
        "\n",
        "Triton is a language and compiler which enables us as Python user to write and generate blazingly fast CUDA kernels at run-time and use them. Writing an efficient GPU kernel is not a trivial task as one has to ensure that memory and compute are being utilized efficiently.\n",
        "\n",
        "This [blog](https://openai.com/blog/triton/) walks us through the idea and architecture of Triton."
      ],
      "metadata": {
        "id": "W2KGveT3Ydkq"
      }
    },
    {
      "cell_type": "markdown",
      "source": [
        "#### Writing a CUDA kernel for `sin` using Triton"
      ],
      "metadata": {
        "id": "rHqf_cgOWmKI"
      }
    },
    {
      "cell_type": "code",
      "source": [
        "# `sin` CUDA kernel\n",
        "@triton.jit\n",
        "def _sin(x_ptr, output_ptr,\n",
        "        BLOCK_SIZE: tl.constexpr,\n",
        "):\n",
        "    pid = tl.program_id(axis=0)\n",
        "    block_start = pid * BLOCK_SIZE\n",
        "    offsets = block_start + tl.arange(0, BLOCK_SIZE)\n",
        "    # Load data\n",
        "    x = tl.load(x_ptr + offsets)\n",
        "    output = tl.sin(x)\n",
        "    # Write-back output\n",
        "    tl.store(output_ptr + offsets, output)\n",
        "\n",
        "\n",
        "def triton_sin(x):\n",
        "    output = torch.empty_like(x)\n",
        "    assert x.is_contiguous()\n",
        "    n_elements = x.numel()\n",
        "    grid = lambda meta: (triton.cdiv(n_elements, meta['BLOCK_SIZE']),)\n",
        "    # Launch `sin` kernel\n",
        "    _sin[grid](x, output, BLOCK_SIZE=256)\n",
        "    return output"
      ],
      "metadata": {
        "id": "7z7MhkvPQ_W7"
      },
      "execution_count": 3,
      "outputs": []
    },
    {
      "cell_type": "markdown",
      "source": [
        "Check for simple correctness of our kernel"
      ],
      "metadata": {
        "id": "06zucr0koOuI"
      }
    },
    {
      "cell_type": "code",
      "source": [
        "# Input tensor\n",
        "x = torch.randn(size=(1024, 1024)).cuda()\n",
        "\n",
        "# Verify that our outputs match with the PyTorch's output\n",
        "torch.testing.assert_close(triton_sin(x), torch.sin(x))"
      ],
      "metadata": {
        "id": "sDcNPG_ShfSF"
      },
      "execution_count": 4,
      "outputs": []
    },
    {
      "cell_type": "markdown",
      "source": [
        "#### Benchmark `torch` implementation vs Triton"
      ],
      "metadata": {
        "id": "BjZoPFz0YLtm"
      }
    },
    {
      "cell_type": "code",
      "source": [
        "# Helper for benchmarking\n",
        "# Benchmark `torch.sin` vs `triton_sin`\n",
        "def run_benchmark():\n",
        "    @triton.testing.perf_report(\n",
        "        triton.testing.Benchmark(\n",
        "            x_names=['N'],  # argument names to use as an x-axis for the plot\n",
        "            x_vals=[\n",
        "                128 * i for i in range(2, 100)\n",
        "            ],  # different possible values for `x_name`\n",
        "            line_arg='provider',  # argument name whose value corresponds to a different line in the plot\n",
        "            line_vals=[\n",
        "                'triton',\n",
        "                'torch-native',\n",
        "            ],  # possible values for `line_arg``\n",
        "            line_names=[\n",
        "                \"Triton\",\n",
        "                \"Torch (native)\",\n",
        "            ],  # label name for the lines\n",
        "            styles=[('blue', '-'), ('green', '-')],  # line styles\n",
        "            ylabel=\"GB/s\",  # label name for the y-axis\n",
        "            plot_name=\"sin-performance\",  # name for the plot. Used also as a file name for saving the plot.\n",
        "            args={'M': 4096},  # values for function arguments not in `x_names` and `y_name`\n",
        "        )\n",
        "    )\n",
        "    def benchmark(M, N, provider):\n",
        "        x = torch.randn(M, N, device='cuda', dtype=torch.float32)\n",
        "        if provider == 'torch-native':\n",
        "            ms, min_ms, max_ms = triton.testing.do_bench(lambda: torch.sin(x))\n",
        "        if provider == 'triton':\n",
        "            ms, min_ms, max_ms = triton.testing.do_bench(lambda: triton_sin(x))\n",
        "        gbps = lambda ms: 2 * x.nelement() * x.element_size() * 1e-9 / (ms * 1e-3)\n",
        "        return gbps(ms), gbps(max_ms), gbps(min_ms)\n",
        "\n",
        "    benchmark.run(show_plots=True, print_data=True)\n"
      ],
      "metadata": {
        "id": "TD-RivInZn5A"
      },
      "execution_count": 5,
      "outputs": []
    },
    {
      "cell_type": "code",
      "source": [
        "run_benchmark()"
      ],
      "metadata": {
        "colab": {
          "base_uri": "https://localhost:8080/",
          "height": 534
        },
        "id": "5YXCtQUqR-xq",
        "outputId": "e4073833-62b2-49a8-dda1-687d186088ee"
      },
      "execution_count": 6,
      "outputs": [
        {
          "output_type": "display_data",
          "data": {
            "text/plain": [
              "<Figure size 432x288 with 1 Axes>"
            ],
            "image/png": "[encoded data removed]"
          },
          "metadata": {
            "needs_background": "light"
          }
        },
        {
          "output_type": "stream",
          "name": "stdout",
          "text": [
            "sin-performance:\n",
            "          N      Triton  Torch (native)\n",
            "0     256.0  225.209619      214.169933\n",
            "1     384.0  228.348438      219.183942\n",
            "2     512.0  234.057137      221.873883\n",
            "3     640.0  235.486884      227.555552\n",
            "4     768.0  236.734503      227.555555\n",
            "..      ...         ...             ...\n",
            "93  12160.0  244.729560      237.557995\n",
            "94  12288.0  244.309408      238.143598\n",
            "95  12416.0  244.480894      237.600154\n",
            "96  12544.0  244.458198      237.265059\n",
            "97  12672.0  244.597226      237.697202\n",
            "\n",
            "[98 rows x 3 columns]\n"
          ]
        }
      ]
    },
    {
      "cell_type": "markdown",
      "source": [
        "Based on the graph above, we can see that the Triton kernel has better performance than the native PyTorch kernel for the given input sizes."
      ],
      "metadata": {
        "id": "AX9D9ICIpGIp"
      }
    },
    {
      "cell_type": "markdown",
      "source": [
        "### Let's replace PyTorch's CUDA kernel with Triton Kernel\n",
        "\n",
        "#### Enter torch.library.Library\n",
        "\n",
        "Doc: https://pytorch.org/docs/stable/library.html?highlight=library#torch.library.Library\n",
        "\n",
        "PyTorch provides a mechanism to easily define and implement kernels for operators via Python. This also allow us to update `torch.sin` to always dispatch to the Triton generated kernel for tensor on CUDA device."
      ],
      "metadata": {
        "id": "jGXMhQ0qXUJQ"
      }
    },
    {
      "cell_type": "code",
      "source": [
        "lib = torch.library.Library(\"aten\", \"IMPL\", \"CUDA\")"
      ],
      "metadata": {
        "id": "Y_QDtjgfWB7S"
      },
      "execution_count": 7,
      "outputs": []
    },
    {
      "cell_type": "markdown",
      "source": [
        "#### We should get a warning notifying us that we are overriding an existing kernel!"
      ],
      "metadata": {
        "id": "jkQXDYm-Xmhr"
      }
    },
    {
      "cell_type": "code",
      "source": [
        "# Henceforth, all calls to `torch.sin` with CUDA tensor will be dispatched\n",
        "# to our Triton generated kernel. To verify, we should see no difference\n",
        "# between `torch.sin` vs `triton_sin` in terms of performance.\n",
        "lib.impl('sin', triton_sin)"
      ],
      "metadata": {
        "colab": {
          "base_uri": "https://localhost:8080/"
        },
        "id": "4XLAnoi1XXm8",
        "outputId": "493b179f-6a81-4d84-d28c-2a9e3244f780"
      },
      "execution_count": 8,
      "outputs": [
        {
          "output_type": "stream",
          "name": "stderr",
          "text": [
            "/usr/local/lib/python3.7/dist-packages/torch/library.py:62: UserWarning: Overriding a previously registered kernel for the same operator and the same dispatch key\n",
            "  operator: aten::sin(Tensor self) -> (Tensor)\n",
            "    registered at aten/src/ATen/RegisterSchema.cpp:6\n",
            "  dispatch key: CUDA\n",
            "  previous kernel: registered at ../aten/src/ATen/BatchingRegistrations.cpp:1068\n",
            "       new kernel: registered at /dev/null:3326 (Triggered internally at  ../aten/src/ATen/core/dispatch/OperatorEntry.cpp:127.)\n",
            "  self.m.impl(name, dispatch_key, fn)\n"
          ]
        }
      ]
    },
    {
      "cell_type": "markdown",
      "source": [
        "### Re-run the benchmark, PyTorch native and triton version should have same performance now."
      ],
      "metadata": {
        "id": "aYZr5E99X4WO"
      }
    },
    {
      "cell_type": "code",
      "source": [
        "run_benchmark()"
      ],
      "metadata": {
        "colab": {
          "base_uri": "https://localhost:8080/",
          "height": 534
        },
        "id": "tDXNPOabXkHH",
        "outputId": "bcc8353e-d7b9-4774-dab7-e799f91c1060"
      },
      "execution_count": 9,
      "outputs": [
        {
          "output_type": "display_data",
          "data": {
            "text/plain": [
              "<Figure size 432x288 with 1 Axes>"
            ],
            "image/png": "[encoded data removed]"
          },
          "metadata": {
            "needs_background": "light"
          }
        },
        {
          "output_type": "stream",
          "name": "stdout",
          "text": [
            "sin-performance:\n",
            "          N      Triton  Torch (native)\n",
            "0     256.0  225.209619      225.209619\n",
            "1     384.0  229.013391      230.760556\n",
            "2     512.0  234.057137      234.057137\n",
            "3     640.0  236.421363      237.191451\n",
            "4     768.0  238.024212      237.952192\n",
            "..      ...         ...             ...\n",
            "93  12160.0  244.782484      244.681476\n",
            "94  12288.0  244.829934      244.725169\n",
            "95  12416.0  244.358712      244.415079\n",
            "96  12544.0  244.569898      244.586188\n",
            "97  12672.0  244.832607      244.505061\n",
            "\n",
            "[98 rows x 3 columns]\n"
          ]
        }
      ]
    },
    {
      "cell_type": "markdown",
      "source": [
        "And we still get the automatic differentiation on the overridden operator for free"
      ],
      "metadata": {
        "id": "wMXr5_sr21Xv"
      }
    },
    {
      "cell_type": "code",
      "source": [
        "x = torch.randn(10, device='cuda', requires_grad=True)\n",
        "y = x.sin()\n",
        "y.sum().backward()\n",
        "\n",
        "with torch.no_grad():\n",
        "    torch.testing.assert_close(x.grad, x.cos())"
      ],
      "metadata": {
        "id": "3stw1m_93rbC"
      },
      "execution_count": 10,
      "outputs": []
    },
    {
      "cell_type": "markdown",
      "source": [
        "### Conclusion\n",
        "\n",
        "* We saw that Triton allows us to write efficient CUDA kernels very easily in Python. \n",
        "* We also used `torch.library.Library` to override the PyTorch's implementation with ours. This way, we can just override the kernels and get performance boost on existing models."
      ],
      "metadata": {
        "id": "PsSAP4yG29Uq"
      }
    },
    {
      "cell_type": "markdown",
      "source": [
        "References:\n",
        "1. https://openai.com/blog/triton/\n",
        "2. https://triton-lang.org/master/index.html\n",
        "3. https://pytorch.org/docs/stable/library.html#torch-library"
      ],
      "metadata": {
        "id": "3TgoI0d55WrZ"
      }
    }
  ]
}